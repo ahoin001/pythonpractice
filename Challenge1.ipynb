{
 "cells": [
  {
   "cell_type": "code",
   "execution_count": 14,
   "metadata": {},
   "outputs": [
    {
     "name": "stdout",
     "output_type": "stream",
     "text": [
      "One or both numbers were odd, comparing now\n",
      "Both numbers were even, finding smallest one now\n"
     ]
    },
    {
     "data": {
      "text/plain": [
       "2"
      ]
     },
     "execution_count": 14,
     "metadata": {},
     "output_type": "execute_result"
    }
   ],
   "source": [
    "# Warm Up 1\n",
    "# LESSER OF TWO EVENS: Write a function that returns the lesser of two given numbers if both numbers are even, \n",
    "# but returns the greater if one or both numbers are odd\n",
    "def lesser_of_two_evens(a,b):\n",
    "    #if even\n",
    "    if(a % 2 == 0 and b % 2 == 0):\n",
    "        if(a==b):\n",
    "            print(\"Both numbers were the same !\")\n",
    "            return min([a,b]) \n",
    "        print(\"Both numbers were even, finding smallest one now\")\n",
    "        return min([a,b]) #returns smallest of iterable numbers\n",
    "    #if odd\n",
    "    elif((a % 2 != 0) or (b % 2 != 0)):\n",
    "        print(\"One or both numbers were odd, comparing now\")\n",
    "        return min([a,b]) #returns smallest of iterable numbers\n",
    "    \n",
    "#Test1\n",
    "lesser_of_two_evens(2,5)\n",
    "\n",
    "#Test 2\n",
    "#lesser_of_two_evens(2,4)\n"
   ]
  },
  {
   "cell_type": "code",
   "execution_count": 25,
   "metadata": {},
   "outputs": [
    {
     "name": "stdout",
     "output_type": "stream",
     "text": [
      "C\n",
      "K\n",
      "First letter is C\n"
     ]
    },
    {
     "data": {
      "text/plain": [
       "False"
      ]
     },
     "execution_count": 25,
     "metadata": {},
     "output_type": "execute_result"
    }
   ],
   "source": [
    "# Warm Up 2 \n",
    "# ANIMAL CRACKERS: Write a function takes a two-word string and returns True \n",
    "# if both words begin with same letter\n",
    "def animal_crackers(text):\n",
    "    listOfChar =[]\n",
    "   # Turned phrase into List, then iterate the list to get first letter of each word\n",
    "    for wordInList in text.split(\" \"):\n",
    "        print(wordInList[0])\n",
    "        listOfChar.append(wordInList[0])\n",
    "        \n",
    "    # Check if the first letter has duplicate in list(If #'s are same) and return true or false\n",
    "    if (listOfChar.count(listOfChar[0] == 0)):\n",
    "        return True\n",
    "    else:\n",
    "        return False\n",
    "\n",
    "#Check 1    \n",
    "#animal_crackers('Levelheaded Llama')\n",
    "\n",
    "# Check 2\n",
    "animal_crackers('Crazy Kangaroo')"
   ]
  },
  {
   "cell_type": "code",
   "execution_count": 31,
   "metadata": {},
   "outputs": [
    {
     "data": {
      "text/plain": [
       "True"
      ]
     },
     "execution_count": 31,
     "metadata": {},
     "output_type": "execute_result"
    }
   ],
   "source": [
    "#Warm Up 3\n",
    "#MAKES TWENTY: Given two integers, return True if the sum of the integers is 20 or \n",
    "# if one of the integers is 20. If not, return False\n",
    "def makes_twenty(n1,n2):\n",
    "    if(n1+n2==20):\n",
    "        return True\n",
    "    \n",
    "    if(n1==20 or n2==20):\n",
    "        return True\n",
    "    \n",
    "    print(\"Sum is not 20, and number 20 not provided\")\n",
    "\n",
    "#Check 1 \n",
    "makes_twenty(20,10)\n",
    "\n",
    "#Check 2\n",
    "#makes_twenty(2,3)\n",
    "\n",
    "#Check 3\n",
    "#makes_twenty(17,3)"
   ]
  }
 ],
 "metadata": {
  "interpreter": {
   "hash": "674660b59e67bd8e6d2077e7ddb01d11a7fc4df04d4861dbe626a96d6bdb4a99"
  },
  "kernelspec": {
   "display_name": "Python 3.9.7 64-bit ('base': conda)",
   "language": "python",
   "name": "python3"
  },
  "language_info": {
   "codemirror_mode": {
    "name": "ipython",
    "version": 3
   },
   "file_extension": ".py",
   "mimetype": "text/x-python",
   "name": "python",
   "nbconvert_exporter": "python",
   "pygments_lexer": "ipython3",
   "version": "3.9.7"
  },
  "orig_nbformat": 4
 },
 "nbformat": 4,
 "nbformat_minor": 2
}
