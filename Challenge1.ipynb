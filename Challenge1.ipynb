{
 "cells": [
  {
   "cell_type": "code",
   "execution_count": 14,
   "metadata": {},
   "outputs": [
    {
     "name": "stdout",
     "output_type": "stream",
     "text": [
      "One or both numbers were odd, comparing now\n",
      "Both numbers were even, finding smallest one now\n"
     ]
    },
    {
     "data": {
      "text/plain": [
       "2"
      ]
     },
     "execution_count": 14,
     "metadata": {},
     "output_type": "execute_result"
    }
   ],
   "source": [
    "# Warm Up 1\n",
    "# LESSER OF TWO EVENS: Write a function that returns the lesser of two given numbers if both numbers are even, \n",
    "# but returns the greater if one or both numbers are odd\n",
    "def lesser_of_two_evens(a,b):\n",
    "    #if even\n",
    "    if(a % 2 == 0 and b % 2 == 0):\n",
    "        if(a==b):\n",
    "            print(\"Both numbers were the same !\")\n",
    "            return min([a,b]) \n",
    "        print(\"Both numbers were even, finding smallest one now\")\n",
    "        return min([a,b]) #returns smallest of iterable numbers\n",
    "    #if odd\n",
    "    elif((a % 2 != 0) or (b % 2 != 0)):\n",
    "        print(\"One or both numbers were odd, comparing now\")\n",
    "        return max([a,b]) #returns smallest of iterable numbers\n",
    "    \n",
    "#Test1\n",
    "lesser_of_two_evens(2,5)\n",
    "\n",
    "#Test 2\n",
    "#lesser_of_two_evens(2,4)\n"
   ]
  },
  {
   "cell_type": "code",
   "execution_count": 87,
   "metadata": {},
   "outputs": [
    {
     "name": "stdout",
     "output_type": "stream",
     "text": [
      "['Crazy', 'Kangaroo']\n",
      "Crazy\n",
      "C\n"
     ]
    },
    {
     "data": {
      "text/plain": [
       "False"
      ]
     },
     "execution_count": 87,
     "metadata": {},
     "output_type": "execute_result"
    }
   ],
   "source": [
    "# Warm Up 2 \n",
    "# ANIMAL CRACKERS: Write a function takes a two-word string and returns True \n",
    "# if both words begin with same letter\n",
    "def animal_crackers(text):\n",
    "    listOfChar =[]\n",
    "   # Turned phrase into List, then iterate the list to get first letter of each word\n",
    "    for wordInList in text.split(\" \"):\n",
    "        print(wordInList[0])\n",
    "        listOfChar.append(wordInList[0])\n",
    "        \n",
    "    # Check if the first letter has duplicate in list(If #'s are same) and return true or false\n",
    "    if (listOfChar.count(listOfChar[0] == 0)):\n",
    "        return True\n",
    "    else:\n",
    "        return False\n",
    "    \n",
    "    # COURSE ANSWER *************************\n",
    "    \n",
    "     # wordlist = text.split()\n",
    "     # print(wordlist)\n",
    "     # print(wordlist[0])\n",
    "     # print(wordlist[0][0])\n",
    "     # return wordlist[0][0] == wordlist[1][0]\n",
    "\n",
    "#Check 1    \n",
    "#animal_crackers('Levelheaded Llama')\n",
    "\n",
    "# Check 2\n",
    "animal_crackers('Crazy Kangaroo')"
   ]
  },
  {
   "cell_type": "code",
   "execution_count": 31,
   "metadata": {},
   "outputs": [
    {
     "data": {
      "text/plain": [
       "True"
      ]
     },
     "execution_count": 31,
     "metadata": {},
     "output_type": "execute_result"
    }
   ],
   "source": [
    "#Warm Up 3\n",
    "#MAKES TWENTY: Given two integers, return True if the sum of the integers is 20 or \n",
    "# if one of the integers is 20. If not, return False\n",
    "def makes_twenty(n1,n2):\n",
    "    if(n1+n2==20):\n",
    "        return True\n",
    "    \n",
    "    if(n1==20 or n2==20):\n",
    "        return True\n",
    "    \n",
    "    print(\"Sum is not 20, and number 20 not provided\")\n",
    "\n",
    "#Check 1 \n",
    "makes_twenty(20,10)\n",
    "\n",
    "#Check 2\n",
    "#makes_twenty(2,3)\n",
    "\n",
    "#Check 3\n",
    "#makes_twenty(17,3)"
   ]
  },
  {
   "cell_type": "code",
   "execution_count": 41,
   "metadata": {},
   "outputs": [
    {
     "name": "stdout",
     "output_type": "stream",
     "text": [
      "['r', 'o', 'n', 'a', 'l', 'd']\n"
     ]
    },
    {
     "data": {
      "text/plain": [
       "'RonAld'"
      ]
     },
     "execution_count": 41,
     "metadata": {},
     "output_type": "execute_result"
    }
   ],
   "source": [
    "#Level 1 Problems\n",
    "\n",
    "# OLD MACDONALD: Write a function that capitalizes the first and fourth letters of a name\n",
    "def old_macdonald(name):\n",
    "    #turn word to list to manipulate specific letters\n",
    "    wordAsLetters = [letter for letter in name]\n",
    "    \n",
    "    #print(wordAsLetters)\n",
    "    \n",
    "    #capitilize 1st and 4th letter\n",
    "    wordAsLetters[0] = wordAsLetters[0].upper()\n",
    "    wordAsLetters[3] = wordAsLetters[3].upper()\n",
    "        \n",
    "    #return the list of letters as one word\n",
    "    return ''.join(wordAsLetters)\n",
    "    \n",
    "#Check 1\n",
    "old_macdonald(\"ronald\")"
   ]
  },
  {
   "cell_type": "code",
   "execution_count": 48,
   "metadata": {},
   "outputs": [
    {
     "data": {
      "text/plain": [
       "'home am I'"
      ]
     },
     "execution_count": 48,
     "metadata": {},
     "output_type": "execute_result"
    }
   ],
   "source": [
    "# Level 1 Task 2\n",
    "#MASTER YODA: Given a sentence, return a sentence with the words reversed\n",
    "def master_yoda(text):\n",
    "    phraseAsList = text.split()\n",
    "    phraseAsList.reverse()\n",
    "    phraseAsList\n",
    "    \n",
    "    #return reversed list as string\n",
    "    return ' '.join(phraseAsList)\n",
    "    \n",
    "# Check 1 \n",
    "master_yoda('I am home')\n",
    "\n",
    "# Check 2\n",
    "#master_yoda('We are ready')"
   ]
  },
  {
   "cell_type": "code",
   "execution_count": 57,
   "metadata": {},
   "outputs": [
    {
     "name": "stdout",
     "output_type": "stream",
     "text": [
      "Number is 10 within 200 \n"
     ]
    },
    {
     "data": {
      "text/plain": [
       "True"
      ]
     },
     "execution_count": 57,
     "metadata": {},
     "output_type": "execute_result"
    }
   ],
   "source": [
    "# Level 1 Task 3\n",
    "# ALMOST THERE: Given an integer n, return True if n is within 10 of either 100 or 200\n",
    "\n",
    "def almost_there(n):\n",
    "    if(n in range(90,111)):\n",
    "        print(\"Number is 10 within 100 \")\n",
    "        return True\n",
    "    elif (n in range(190,211)):\n",
    "        print(\"Number is 10 within 200 \")\n",
    "        return True\n",
    "    else:\n",
    "        print(\"Number not within ranges\")\n",
    "        return False\n",
    "    \n",
    "# Check 1\n",
    "#almost_there(104)\n",
    "\n",
    "# Check 2\n",
    "#almost_there(150)\n",
    "\n",
    "# Check 3\n",
    "almost_there(209)"
   ]
  },
  {
   "cell_type": "code",
   "execution_count": 84,
   "metadata": {},
   "outputs": [
    {
     "name": "stdout",
     "output_type": "stream",
     "text": [
      "0\n",
      "1\n",
      "2\n"
     ]
    }
   ],
   "source": [
    "# Level 2 Task 1\n",
    "#FIND 33:\n",
    "# Given a list of ints, return True if the array contains a 3 next to a 3 somewhere.\n",
    "def has_33(nums):\n",
    "    #keep track of position in list\n",
    "    iteration=0\n",
    "    index=0\n",
    "\n",
    "    #Loop through list and if number is 3 and equal to next number return true\n",
    "    for number in nums:\n",
    "  \n",
    "        if(iteration>=1):\n",
    "           if (number == 3 and nums[index-1] == 3):\n",
    "                print(\"This list has a 3 that occured twice in a row!\" )\n",
    "                return True\n",
    "        index = index +1\n",
    "        iteration = iteration +1\n",
    "        \n",
    "# Check\n",
    "#has_33([1, 3, 3])\n",
    "\n",
    "# Check\n",
    "#has_33([1, 3, 1, 3])\n",
    "\n",
    "# Check\n",
    "has_33([3, 1, 3])"
   ]
  },
  {
   "cell_type": "code",
   "execution_count": 94,
   "metadata": {},
   "outputs": [
    {
     "data": {
      "text/plain": [
       "'MMMiiissssssiiissssssiiippppppiii'"
      ]
     },
     "execution_count": 94,
     "metadata": {},
     "output_type": "execute_result"
    }
   ],
   "source": [
    "#PAPER DOLL: Given a string, return a string where for every character \n",
    "#in the original there are three characters\n",
    "def paper_doll(text):\n",
    "    \n",
    "    #value to update through loops\n",
    "    result = ''\n",
    "    \n",
    "    #loop through string and for each string add the char*3 to result\n",
    "    for char in text:\n",
    "       \n",
    "        result += char * 3\n",
    "    return result\n",
    "\n",
    "# Check\n",
    "#paper_doll('Hello')\n",
    "\n",
    "# Check 2\n",
    "paper_doll('Mississippi')"
   ]
  },
  {
   "cell_type": "code",
   "execution_count": 101,
   "metadata": {},
   "outputs": [
    {
     "data": {
      "text/plain": [
       "19"
      ]
     },
     "execution_count": 101,
     "metadata": {},
     "output_type": "execute_result"
    }
   ],
   "source": [
    "#BLACKJACK: Given three integers between 1 and 11, if their sum is less than or equal to 21, \n",
    "#return their sum. If their sum exceeds 21 and there's an eleven, reduce the total sum by 10. \n",
    "#Finally, if the sum (even after adjustment) exceeds 21, return 'BUST'\n",
    "def blackjack(a,b,c):\n",
    "    sumOfNums = sum((a,b,c))\n",
    "    \n",
    "    if(sumOfNums <= 21):\n",
    "        return sumOfNums \n",
    "    elif((sumOfNums > 21) and 11 in [a,b,c] ):\n",
    "        return sumOfNums - 10\n",
    "    else:\n",
    "        return \"BUST\"\n",
    "    \n",
    "# Check1\n",
    "#blackjack(5,6,7)\n",
    "\n",
    "# Check 2\n",
    "#blackjack(9,9,9)\n",
    "\n",
    "# Check 3\n",
    "blackjack(9,9,11)"
   ]
  },
  {
   "cell_type": "code",
   "execution_count": 102,
   "metadata": {},
   "outputs": [
    {
     "data": {
      "text/plain": [
       "9"
      ]
     },
     "execution_count": 102,
     "metadata": {},
     "output_type": "execute_result"
    }
   ],
   "source": [
    "#SUMMER OF '69: Return the sum of the numbers in the array, except ignore sections of \n",
    "#numbers starting with a 6 and extending to the next 9 (every 6 will be followed by \n",
    "# at least one 9). Return 0 for no numbers.\n",
    "\n",
    "def summer_69(arr):\n",
    "    total = 0\n",
    "    addNum = True\n",
    "    for num in arr:\n",
    "        #Loop until we run into a 6 then break loop\n",
    "        while addNum:\n",
    "            if num != 6:\n",
    "                total += num\n",
    "                break\n",
    "            else:\n",
    "                addNum = False\n",
    "        \n",
    "        #Loop until we reach a 9 and then break loop\n",
    "        while not addNum:\n",
    "            if num != 9:\n",
    "                break\n",
    "            else:\n",
    "                addNum = True\n",
    "                break\n",
    "    return total\n",
    "# Check 1\n",
    "summer_69([1, 3, 5])\n",
    "\n",
    "# Check 2\n",
    "#summer_69([4, 5, 6, 7, 8, 9])\n",
    "\n",
    "# Check 3\n",
    "#summer_69([2, 1, 6, 9, 11])"
   ]
  }
 ],
 "metadata": {
  "interpreter": {
   "hash": "674660b59e67bd8e6d2077e7ddb01d11a7fc4df04d4861dbe626a96d6bdb4a99"
  },
  "kernelspec": {
   "display_name": "Python 3.9.7 64-bit ('base': conda)",
   "language": "python",
   "name": "python3"
  },
  "language_info": {
   "codemirror_mode": {
    "name": "ipython",
    "version": 3
   },
   "file_extension": ".py",
   "mimetype": "text/x-python",
   "name": "python",
   "nbconvert_exporter": "python",
   "pygments_lexer": "ipython3",
   "version": "3.9.7"
  },
  "orig_nbformat": 4
 },
 "nbformat": 4,
 "nbformat_minor": 2
}
