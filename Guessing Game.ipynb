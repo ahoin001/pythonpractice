{
 "cells": [
  {
   "cell_type": "code",
   "execution_count": 77,
   "metadata": {},
   "outputs": [
    {
     "name": "stdout",
     "output_type": "stream",
     "text": [
      "73\n",
      "WELCOME TO GUESS ME!\n",
      "We're thinking of a number between 1 and 100\n",
      "If your guess is more than 10 away from the number, I'll tell you you're COLD\n",
      "If your guess is within 10 of the number, I'll tell you you're WARM\n",
      "If your guess is farther than your most recent guess, I'll say you're getting COLDER\n",
      "If your guess is closer than your most recent guess, I'll say you're getting WARMER\n",
      "LET'S PLAY!\n",
      "Your guesses: [0, 44]\n",
      "You're COLD!\n",
      "WOW! Congrats. 73 was correct! You Guessed it in 2 tries! \n"
     ]
    }
   ],
   "source": [
    "import random\n",
    "\n",
    "#get our random number between 1 and 100 \n",
    "num = random.randint(1,100)\n",
    "print(num)\n",
    "\n",
    "print(\"WELCOME TO GUESS ME!\")\n",
    "print(\"We're thinking of a number between 1 and 100\")\n",
    "print(\"If your guess is more than 10 away from the number, I'll tell you you're COLD\")\n",
    "print(\"If your guess is within 10 of the number, I'll tell you you're WARM\")\n",
    "print(\"If your guess is farther than your most recent guess, I'll say you're getting COLDER\")\n",
    "print(\"If your guess is closer than your most recent guess, I'll say you're getting WARMER\")\n",
    "print(\"LET'S PLAY!\")\n",
    "\n",
    "#hold guesses, make 0 first to use as falsey later\n",
    "guesses =[0]\n",
    "\n",
    "#Ask user for input until a valid input is provided\n",
    "while True:\n",
    "    \n",
    "  #Keep looping until user answer is valid\n",
    "  guess = int(input(\"We're thinking of a number between 1 and 100.\\n  What is your guess? \"))\n",
    "  \n",
    "  if(guess not in range(1,101)):\n",
    "      print(\"Number is out of bounds! Pick a different number please!\")\n",
    "      continue\n",
    "  \n",
    "  #add their guess to past guesses for future use\n",
    "  guesses.append(guess)\n",
    "  \n",
    "  #if user was right in end game loop\n",
    "  if(guess==num):\n",
    "      print(f\"WOW! Congrats. {guess} was correct! You Guessed it in {len(guesses)-1} tries! \")\n",
    "      break\n",
    "  \n",
    "  print(f\"Your guesses: {guesses}\")\n",
    "  \n",
    "  #will be falsey because of 0, so the second section only used on first iteration\n",
    "  if(guesses[-2]):\n",
    "      if(abs(num-guess) > abs(guesses[-2]-num)):\n",
    "          print(f\"{guess} ? You're getting COLDER!\")\n",
    "      else:\n",
    "          print(f\"{guess} ? You're getting WARMER!\")\n",
    "  \n",
    "  else:\n",
    "      if(abs(guess-10)>10):\n",
    "          print(f\"You're COLD!\")\n",
    "      else:\n",
    "          print(f\"You're WARM!\")\n",
    "  \n",
    "\n",
    "\n",
    "\n",
    "\n",
    "   \n",
    "\n",
    "  \n",
    "\n"
   ]
  }
 ],
 "metadata": {
  "interpreter": {
   "hash": "674660b59e67bd8e6d2077e7ddb01d11a7fc4df04d4861dbe626a96d6bdb4a99"
  },
  "kernelspec": {
   "display_name": "Python 3.9.7 64-bit ('base': conda)",
   "language": "python",
   "name": "python3"
  },
  "language_info": {
   "codemirror_mode": {
    "name": "ipython",
    "version": 3
   },
   "file_extension": ".py",
   "mimetype": "text/x-python",
   "name": "python",
   "nbconvert_exporter": "python",
   "pygments_lexer": "ipython3",
   "version": "3.9.7"
  },
  "orig_nbformat": 4
 },
 "nbformat": 4,
 "nbformat_minor": 2
}
