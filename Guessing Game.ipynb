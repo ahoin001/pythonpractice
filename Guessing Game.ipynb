{
 "cells": [
  {
   "cell_type": "code",
   "execution_count": 27,
   "metadata": {},
   "outputs": [
    {
     "name": "stdout",
     "output_type": "stream",
     "text": [
      "WELCOME TO GUESS ME!\n",
      "We're thinking of a number between 1 and 100\n",
      "If your guess is more than 10 away from the number, I'll tell you you're COLD\n",
      "If your guess is within 10 of the number, I'll tell you you're WARM\n",
      "If your guess is farther than your most recent guess, I'll say you're getting COLDER\n",
      "If your guess is closer than your most recent guess, I'll say you're getting WARMER\n",
      "LET'S PLAY!\n",
      "Number out of bounds! Please try again!\n",
      "[0, 12]\n",
      "GETTING WARMER\n",
      "GETTING COLDER\n",
      "GETTING COLDER\n",
      "GETTING WARMER\n",
      "GETTING WARMER\n",
      "GETTING WARMER\n",
      "GETTING WARMER\n",
      "GETTING WARMER\n",
      "CONGRATULATIONS YOU GUESSED THE NUMBER !\n"
     ]
    }
   ],
   "source": [
    "import random\n",
    "\n",
    "randomNum=num = random.randint(1,2)\n",
    "\n",
    "print(\"WELCOME TO GUESS ME!\")\n",
    "print(\"We're thinking of a number between 1 and 100\")\n",
    "print(\"If your guess is more than 10 away from the number, I'll tell you you're COLD\")\n",
    "print(\"If your guess is within 10 of the number, I'll tell you you're WARM\")\n",
    "print(\"If your guess is farther than your most recent guess, I'll say you're getting COLDER\")\n",
    "print(\"If your guess is closer than your most recent guess, I'll say you're getting WARMER\")\n",
    "print(\"LET'S PLAY!\")\n",
    "\n",
    "guesses =[0]\n",
    "\n",
    "#To get first guess, Ask guest for valid guess until they provide a number between 1 and 100\n",
    "while True:\n",
    "    \n",
    "    guess = int(input(\"I'm thinking of a number between 1 and 100.\\n  What is your guess? \"))\n",
    "   \n",
    "    \n",
    "     #Check if the guess is correct, if it is break loop after congratulating\n",
    "    if(guess == num):\n",
    "        print(\"CONGRATULATIONS YOU GUESSED THE NUMBER !\")\n",
    "        break \n",
    "    \n",
    "    if(guess not in range(1,101)):\n",
    "        print(\"Number out of bounds! Please try again!\")\n",
    "        continue\n",
    "    \n",
    "    break\n",
    "    \n",
    "#add guess to list\n",
    "guesses.append(guess)\n",
    "print(f\"{guesses}\")\n",
    "\n",
    "# If user was wrong, new loop for guesses and hints \n",
    "# Keep asking for number and providing feedback until number is a valid input\n",
    "while True: \n",
    "    \n",
    "    #Get valid user guess\n",
    "    guess = int(input(\"WRONG! .\\n  What is your next guess? \"))\n",
    "    \n",
    "    if(guess not in range(1,101)):\n",
    "        print(\"Number out of bounds! Please try again!\")\n",
    "        continue\n",
    "        \n",
    "    #Check if the guess is correct, if it is break loop after congratulating\n",
    "    if(guess == num):\n",
    "        print(f\"CONGRATULATIONS YOU GUESSED THE NUMBER ! It was {num}\")\n",
    "        break\n",
    "    \n",
    "    #? If user wrong provide hints if closer or farther \n",
    "    \n",
    "    # [-2] should be zero on first guess and skip to second section \n",
    "    # After first guess tell user if wamr or cold\n",
    "    if(guesses[-2]):\n",
    "        if((abs(guess-num)<10)):\n",
    "            print(\"WARM\")\n",
    "        else:\n",
    "            print(\"COLD\")\n",
    "     \n",
    "    # Return Warmer if guess within 10, return colder if outside of 10 away\n",
    "    if((abs(guess-num)>10)):\n",
    "        print(f\"GETTING COLDER\")\n",
    "    else:\n",
    "        print(f\"GETTING WARMER\")\n",
    "    \n"
   ]
  }
 ],
 "metadata": {
  "interpreter": {
   "hash": "674660b59e67bd8e6d2077e7ddb01d11a7fc4df04d4861dbe626a96d6bdb4a99"
  },
  "kernelspec": {
   "display_name": "Python 3.9.7 64-bit ('base': conda)",
   "language": "python",
   "name": "python3"
  },
  "language_info": {
   "codemirror_mode": {
    "name": "ipython",
    "version": 3
   },
   "file_extension": ".py",
   "mimetype": "text/x-python",
   "name": "python",
   "nbconvert_exporter": "python",
   "pygments_lexer": "ipython3",
   "version": "3.9.7"
  },
  "orig_nbformat": 4
 },
 "nbformat": 4,
 "nbformat_minor": 2
}
