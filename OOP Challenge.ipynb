{
 "cells": [
  {
   "cell_type": "code",
   "execution_count": 17,
   "metadata": {},
   "outputs": [
    {
     "name": "stdout",
     "output_type": "stream",
     "text": [
      "<__main__.Account object at 0x7fa048b612b0>\n",
      "Account owner: Jose\n",
      "Account balance: 100 \n",
      "\n",
      "Depositing: 100\n",
      "New balance: 200\n",
      "\n",
      "Withdrawing: 110\n",
      "New balance: 90\n",
      "\n",
      "Depositing: 400\n",
      "New balance: 490\n",
      "\n",
      "Withdrawing: 220\n",
      "New balance: 270\n",
      "\n"
     ]
    }
   ],
   "source": [
    "class Account:\n",
    "    def __init__(self,owner,balance):\n",
    "        self.owner = owner\n",
    "        self.balance=balance\n",
    "    \n",
    "    def deposit(self,amount):\n",
    "        \n",
    "        print(f\"Depositing: {amount}\")\n",
    "        self.balance = self.balance + amount\n",
    "        print(f\"New balance: {self.balance}\\n\")\n",
    "    \n",
    "    def withdraw(self,amount):\n",
    "        print(f\"Withdrawing: {amount}\")\n",
    "        if(self.balance <= amount):\n",
    "            print(\"Insufficient funds,  cannot withdraw that amount\\n\")\n",
    "        else:\n",
    "            self.balance = self.balance - amount\n",
    "            print(f\"New balance: {self.balance}\\n\")\n",
    "    \n",
    "# 1. Instantiate the class\n",
    "acct1 = Account('Jose',100)\n",
    "\n",
    "# 2. Print the object\n",
    "print(acct1)\n",
    "print(f\"Account owner: {acct1.owner}\")\n",
    "print(f\"Account balance: {acct1.balance} \\n\")\n",
    "\n",
    "# 5. Make a series of deposits and withdrawals\n",
    "acct1.deposit(100)\n",
    "acct1.withdraw(110)\n",
    "acct1.deposit(400)\n",
    "acct1.withdraw(620)"
   ]
  }
 ],
 "metadata": {
  "interpreter": {
   "hash": "674660b59e67bd8e6d2077e7ddb01d11a7fc4df04d4861dbe626a96d6bdb4a99"
  },
  "kernelspec": {
   "display_name": "Python 3.9.7 64-bit ('base': conda)",
   "language": "python",
   "name": "python3"
  },
  "language_info": {
   "codemirror_mode": {
    "name": "ipython",
    "version": 3
   },
   "file_extension": ".py",
   "mimetype": "text/x-python",
   "name": "python",
   "nbconvert_exporter": "python",
   "pygments_lexer": "ipython3",
   "version": "3.9.7"
  },
  "orig_nbformat": 4
 },
 "nbformat": 4,
 "nbformat_minor": 2
}
